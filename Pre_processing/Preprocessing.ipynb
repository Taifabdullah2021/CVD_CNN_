{
 "cells": [
  {
   "cell_type": "code",
   "execution_count": 6,
   "metadata": {},
   "outputs": [
    {
     "ename": "ModuleNotFoundError",
     "evalue": "No module named 'tensorflow.python'",
     "output_type": "error",
     "traceback": [
      "\u001b[1;31m---------------------------------------------------------------------------\u001b[0m",
      "\u001b[1;31mModuleNotFoundError\u001b[0m                       Traceback (most recent call last)",
      "\u001b[1;32m<ipython-input-6-0e3abc5f3835>\u001b[0m in \u001b[0;36m<module>\u001b[1;34m\u001b[0m\n\u001b[0;32m      9\u001b[0m \u001b[1;32mimport\u001b[0m \u001b[0mmatplotlib\u001b[0m\u001b[1;33m\u001b[0m\u001b[1;33m\u001b[0m\u001b[0m\n\u001b[0;32m     10\u001b[0m \u001b[1;32mimport\u001b[0m \u001b[0mrandom\u001b[0m\u001b[1;33m\u001b[0m\u001b[1;33m\u001b[0m\u001b[0m\n\u001b[1;32m---> 11\u001b[1;33m \u001b[1;32mimport\u001b[0m \u001b[0mtensorflow\u001b[0m \u001b[1;32mas\u001b[0m \u001b[0mtf\u001b[0m\u001b[1;33m\u001b[0m\u001b[1;33m\u001b[0m\u001b[0m\n\u001b[0m",
      "\u001b[1;32m~\\AppData\\Local\\Packages\\PythonSoftwareFoundation.Python.3.8_qbz5n2kfra8p0\\LocalCache\\local-packages\\Python38\\site-packages\\tensorflow\\__init__.py\u001b[0m in \u001b[0;36m<module>\u001b[1;34m\u001b[0m\n\u001b[0;32m     39\u001b[0m \u001b[1;32mimport\u001b[0m \u001b[0msys\u001b[0m \u001b[1;32mas\u001b[0m \u001b[0m_sys\u001b[0m\u001b[1;33m\u001b[0m\u001b[1;33m\u001b[0m\u001b[0m\n\u001b[0;32m     40\u001b[0m \u001b[1;33m\u001b[0m\u001b[0m\n\u001b[1;32m---> 41\u001b[1;33m \u001b[1;32mfrom\u001b[0m \u001b[0mtensorflow\u001b[0m\u001b[1;33m.\u001b[0m\u001b[0mpython\u001b[0m\u001b[1;33m.\u001b[0m\u001b[0mtools\u001b[0m \u001b[1;32mimport\u001b[0m \u001b[0mmodule_util\u001b[0m \u001b[1;32mas\u001b[0m \u001b[0m_module_util\u001b[0m\u001b[1;33m\u001b[0m\u001b[1;33m\u001b[0m\u001b[0m\n\u001b[0m\u001b[0;32m     42\u001b[0m \u001b[1;32mfrom\u001b[0m \u001b[0mtensorflow\u001b[0m\u001b[1;33m.\u001b[0m\u001b[0mpython\u001b[0m\u001b[1;33m.\u001b[0m\u001b[0mutil\u001b[0m\u001b[1;33m.\u001b[0m\u001b[0mlazy_loader\u001b[0m \u001b[1;32mimport\u001b[0m \u001b[0mLazyLoader\u001b[0m \u001b[1;32mas\u001b[0m \u001b[0m_LazyLoader\u001b[0m\u001b[1;33m\u001b[0m\u001b[1;33m\u001b[0m\u001b[0m\n\u001b[0;32m     43\u001b[0m \u001b[1;33m\u001b[0m\u001b[0m\n",
      "\u001b[1;31mModuleNotFoundError\u001b[0m: No module named 'tensorflow.python'"
     ]
    }
   ],
   "source": [
    "import matplotlib.pyplot as plt\n",
    "from matplotlib.pyplot import figure\n",
    "import numpy as np\n",
    "import cv2\n",
    "import os\n",
    "from skimage.color import rgb2gray\n",
    "from PIL import Image\n",
    "import scipy.misc\n",
    "import matplotlib\n",
    "import random\n",
    "import tensorflow as tf"
   ]
  },
  {
   "cell_type": "code",
   "execution_count": 136,
   "metadata": {},
   "outputs": [],
   "source": [
    "# 1\n",
    "def cropping(img):\n",
    "    \n",
    "    #img = rgb2gray(img)\n",
    "\n",
    "   # Convert image to array\n",
    "    image_arr = np.array(img) # input  \n",
    "    \n",
    "    # Crop image (1)\n",
    "    image_arr = image_arr[289:-1, 0:2175]\n",
    "    \n",
    "    # Crop image (2)\n",
    "    image_arr = image_arr[0:1228, 70:-1]\n",
    "    \n",
    "    return image_arr"
   ]
  },
  {
   "cell_type": "code",
   "execution_count": 139,
   "metadata": {},
   "outputs": [],
   "source": [
    "# 2\n",
    "def thresholding(img,img_name):\n",
    "    \n",
    "    th_values = np.linspace(0, 0.1, 2)\n",
    "        \n",
    "    for j in th_values:\n",
    "        if j == 0.1:\n",
    "            for i in range(len(img)):\n",
    "                for u in range(len(img[i])): \n",
    "                    if img[i][u] > j:\n",
    "                        img[i][u] = 0\n",
    "                    else:\n",
    "                        img[i][u] = 1\n",
    "                            \n",
    "    \n",
    "    matplotlib.image.imsave(f'C:/Users/Hp/Desktop/History_of_MI_thr/thr_{img_name}.jpg', img)\n",
    "    \n",
    "\n",
    "    return img\n",
    "    #cv2.imwrite(f'C:/Users/Hp/Desktop/shade/th.jpg',gray_raw_img)"
   ]
  },
  {
   "cell_type": "code",
   "execution_count": 147,
   "metadata": {},
   "outputs": [],
   "source": [
    "def shading(img,img_name):\n",
    "    \n",
    "    shades = [130]\n",
    "\n",
    "    for i in shades:\n",
    "\n",
    "        bright = np.ones(img.shape,dtype=\"uint8\")*i\n",
    "\n",
    "        bright_dec = cv2.subtract(img,bright)\n",
    "\n",
    "        #save the three shaded pics in the folder\n",
    "\n",
    "        cv2.imwrite(f'C:/Users/Hp/Desktop/Data_thr - Copy/myocardial_Infarction_thr/shaded_{img_name}.jpg',bright_dec)\n"
   ]
  },
  {
   "cell_type": "code",
   "execution_count": 148,
   "metadata": {},
   "outputs": [],
   "source": [
    "def flipping(img,img_name):\n",
    "    \n",
    "    flippedimage= cv2.flip(img, 1)\n",
    "    \n",
    "    cv2.imwrite(f'C:/Users/Hp/Desktop/Data_thr - Copy/myocardial_Infarction_thr/flipped_{img_name}.jpg',flippedimage)\n"
   ]
  },
  {
   "cell_type": "code",
   "execution_count": 149,
   "metadata": {},
   "outputs": [],
   "source": [
    "def shading_flipping(img,img_name):\n",
    "    \n",
    "    flippedimage= cv2.flip(img, 1)\n",
    "    \n",
    "    shades = [70]\n",
    "\n",
    "    for i in shades:\n",
    "        \n",
    "        bright = np.ones(flippedimage.shape,dtype=\"uint8\")*i\n",
    "\n",
    "        bright_dec = cv2.subtract(flippedimage,bright)\n",
    "\n",
    "        #save the three shaded pics in the folder\n",
    "\n",
    "        cv2.imwrite(f'C:/Users/Hp/Desktop/Data_thr - Copy/myocardial_Infarction_thr/shaded_flipped_{img_name}.jpg',bright_dec)\n",
    "    "
   ]
  },
  {
   "cell_type": "markdown",
   "metadata": {},
   "source": [
    "# Cropping and changing the threshold of the images "
   ]
  },
  {
   "cell_type": "code",
   "execution_count": 140,
   "metadata": {},
   "outputs": [],
   "source": [
    "DATADIR = 'C:/Users/Hp/Desktop/org_Data/'\n",
    "CATEGORIES = ['abnormal','History_of_MI','myocardial_Infarction','normal']\n",
    "\n",
    "#for category in CATEGORIES:\n",
    "path = os.path.join(DATADIR, 'History_of_MI')\n",
    "for img_name in os.listdir(path):\n",
    "    img_array = cv2.imread(os.path.join(path,img_name), cv2.IMREAD_GRAYSCALE)\n",
    "    cropped = cropping(img_array)\n",
    "    thr_pic = thresholding(cropped,img_name)\n",
    "        \n"
   ]
  },
  {
   "cell_type": "markdown",
   "metadata": {},
   "source": [
    "# Augmentation flipping and shading"
   ]
  },
  {
   "cell_type": "code",
   "execution_count": 150,
   "metadata": {},
   "outputs": [],
   "source": [
    "DATADIR = 'C:/Users/Hp/Desktop/Data_thr/'\n",
    "CATEGORIES = ['abnormal_thr','History_of_MI_thr','myocardial_Infarction_thr','normal_thr']\n",
    "\n",
    "#for category in CATEGORIES:\n",
    "path = os.path.join(DATADIR, 'myocardial_Infarction_thr')\n",
    "for img_name in os.listdir(path):\n",
    "    img_array = cv2.imread(os.path.join(path,img_name), cv2.IMREAD_GRAYSCALE)\n",
    "    \n",
    "    #flipping \n",
    "    flipping(img_array,img_name)\n",
    "    \n",
    "    #shading (2 pics)\n",
    "    shading(img_array,img_name)\n",
    "    \n",
    "    #shading and flipping(2 pics)\n",
    "    shading_flipping(img_array,img_name)\n",
    "        \n"
   ]
  },
  {
   "cell_type": "code",
   "execution_count": 120,
   "metadata": {},
   "outputs": [],
   "source": [
    "img = cv2.imread(\"C:/Users/Hp/Desktop/shade/thr11.jpg\")\n",
    "\n",
    "#img = rgb2gray(img)\n",
    "\n",
    "\n",
    "cropped = cropping(img)\n",
    "\n",
    "img = thresholding(cropped)\n",
    "\n",
    "#img = img.astype(\"uint8\")\n",
    "\n",
    "\n",
    "#thr_pic = thr_pic.astype('uint8')\n",
    "\n",
    "#bright = np.ones(img.shape,dtype=\"uint8\")*11\n",
    "\n",
    "#bright_dec = cv2.subtract(img,bright)\n",
    "\n",
    "shading(img)\n",
    "\n",
    "flipping(img)\n",
    "\n",
    "\n",
    "#save the three shaded pics in the folder\n",
    "\n",
    "#flipping(thr_pic)\n"
   ]
  },
  {
   "cell_type": "markdown",
   "metadata": {},
   "source": [
    "# Labeling the images"
   ]
  },
  {
   "cell_type": "code",
   "execution_count": 153,
   "metadata": {},
   "outputs": [],
   "source": [
    "training_data = []\n",
    "DATADIR = 'C:/Users/Hp/Desktop/Data_thr - Copy/'\n",
    "CATEGORIES = ['abnormal_thr','History_of_MI_thr','myocardial_Infarction_thr','normal_thr']\n",
    "\n",
    "def create_train_data():\n",
    "    for category in CATEGORIES:\n",
    "        path = os.path.join(DATADIR, category)\n",
    "        class_num= CATEGORIES.index(category)\n",
    "        for img_name in os.listdir(path):\n",
    "            img_array = cv2.imread(os.path.join(path,img_name), cv2.IMREAD_GRAYSCALE)\n",
    "            training_data.append([img_array,class_num])"
   ]
  },
  {
   "cell_type": "code",
   "execution_count": 163,
   "metadata": {},
   "outputs": [
    {
     "data": {
      "text/plain": [
       "(1228, 2104)"
      ]
     },
     "execution_count": 163,
     "metadata": {},
     "output_type": "execute_result"
    }
   ],
   "source": [
    "img_array.shape"
   ]
  },
  {
   "cell_type": "code",
   "execution_count": 154,
   "metadata": {},
   "outputs": [],
   "source": [
    "create_train_data()"
   ]
  },
  {
   "cell_type": "code",
   "execution_count": 157,
   "metadata": {},
   "outputs": [],
   "source": [
    "#shuffle the data \n",
    "\n",
    "random.shuffle(training_data)"
   ]
  },
  {
   "cell_type": "code",
   "execution_count": 162,
   "metadata": {},
   "outputs": [],
   "source": [
    "X =[]\n",
    "y =[]"
   ]
  },
  {
   "cell_type": "code",
   "execution_count": 164,
   "metadata": {},
   "outputs": [],
   "source": [
    "for features ,label in training_data:\n",
    "    X.append(features)\n",
    "    y.append(label)\n",
    "    \n",
    "X = np.array(X).reshape(-1,1228,2104,1)"
   ]
  },
  {
   "cell_type": "code",
   "execution_count": null,
   "metadata": {},
   "outputs": [],
   "source": [
    "# scale the data by the max vlaue \n",
    "X = X/225.0\n",
    "\n"
   ]
  },
  {
   "cell_type": "markdown",
   "metadata": {},
   "source": [
    "# Baseline CNN"
   ]
  },
  {
   "cell_type": "code",
   "execution_count": null,
   "metadata": {},
   "outputs": [],
   "source": []
  }
 ],
 "metadata": {
  "kernelspec": {
   "display_name": "Python 3",
   "language": "python",
   "name": "python3"
  }
 },
 "nbformat": 4,
 "nbformat_minor": 5
}
