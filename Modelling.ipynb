{
 "cells": [
  {
   "cell_type": "code",
   "execution_count": null,
   "id": "95f94418",
   "metadata": {},
   "outputs": [],
   "source": [
    "import numpy as np\n",
    "import cv2\n",
    "import os\n",
    "import random\n",
    "import tensorflow as tf\n",
    "from tensorflow import keras\n",
    "from tensorflow.python.keras.layers import Dense, Dropout, Activation, Flatten, Conv2D, MaxPooling2D, InputLayer\n",
    "from tensorflow.keras.models import Sequential\n",
    "from tensorflow.keras.utils import to_categorical\n",
    "from sklearn.model_selection import train_test_split\n",
    "from sklearn.metrics import accuracy_score\n",
    "from keras.regularizers import l2\n",
    "from keras.callbacks import EarlyStopping\n",
    "from tensorflow.keras.layers import AveragePooling2D\n",
    "from sklearn.metrics import accuracy_score, precision_score, recall_score, f1_score, multilabel_confusion_matrix, roc_auc_score"
   ]
  },
  {
   "cell_type": "code",
   "execution_count": null,
   "id": "1a981e3c",
   "metadata": {},
   "outputs": [],
   "source": [
    "training_data = []\n",
    "DATADIR = '/Users/saraali/NBM_DeepLearning_Gamma/Project/Data_thr_aug/'\n",
    "CATEGORIES = ['abnormal_thr','History_of_MI_thr','myocardial_Infarction_thr','normal_thr']\n",
    "\n",
    "def create_train_data():\n",
    "    for category in CATEGORIES:\n",
    "        path = os.path.join(DATADIR, category)\n",
    "        class_num= CATEGORIES.index(category)\n",
    "        for img_name in os.listdir(path):\n",
    "            img_array = cv2.imread(os.path.join(path,img_name), cv2.IMREAD_GRAYSCALE)\n",
    "            img_array = cv2.resize(img_array, (420,250))\n",
    "            training_data.append([img_array,class_num])\n",
    "\n",
    "\n",
    "create_train_data()\n",
    "\n",
    "#shuffle the data \n",
    "\n",
    "random.shuffle(training_data)\n",
    "\n",
    "len(training_data)\n",
    "\n",
    "X =[]\n",
    "y =[]\n",
    "\n",
    "for features,label in training_data:\n",
    "    X.append(features)\n",
    "    y.append(label)\n",
    "\n",
    "X = np.array(X).reshape(-1,420,250,1).astype(np.int64)\n",
    "y = np.array(y)\n",
    "\n",
    "# scale the data by the max pixel vlaue \n",
    "X = X/255\n",
    "\n",
    "X_train, X_test, y_train, y_test = (train_test_split(X, y, \n",
    "                                                     test_size = .2, random_state = 42))\n",
    "\n",
    "y_train = to_categorical(y_train)"
   ]
  },
  {
   "cell_type": "code",
   "execution_count": null,
   "id": "b62f702e",
   "metadata": {},
   "outputs": [],
   "source": [
    "earlystop = EarlyStopping(monitor = 'val_accuracy',\n",
    "                          min_delta = 0,\n",
    "                          patience = 1,\n",
    "                          mode='max',\n",
    "                          verbose = 1,\n",
    "                          restore_best_weights = True)"
   ]
  },
  {
   "cell_type": "code",
   "execution_count": null,
   "id": "62cf530a",
   "metadata": {
    "scrolled": false
   },
   "outputs": [],
   "source": [
    "model = Sequential()\n",
    "\n",
    "model.add(InputLayer(input_shape=X_train.shape[1:]))\n",
    "\n",
    "model.add(Conv2D(35, (3,3), strides=(1, 1),padding='same',kernel_regularizer=l2(0.01)))\n",
    "model.add(Activation('relu'))\n",
    "\n",
    "model.add(Conv2D(20, (3,3), strides=(1, 1),padding='same',kernel_regularizer=l2(0.1)))\n",
    "model.add(Activation('relu'))\n",
    "\n",
    "model.add(Conv2D(15, (3,3), strides=(1, 1),padding='same', kernel_regularizer=l2(10)))\n",
    "model.add(Activation('relu'))\n",
    "\n",
    "model.add(AveragePooling2D(pool_size=(2, 2), strides=(1, 1), padding=\"same\"))\n",
    "model.add(MaxPooling2D(pool_size = (1,1),strides=(2, 2)))\n",
    "\n",
    "model.add(Flatten())\n",
    "          \n",
    "model.add(Dense(15, kernel_regularizer=l2(10)))\n",
    "model.add(Activation('relu'))\n",
    "model.add(Dense(4)) \n",
    "model.add(Activation('softmax'))\n",
    "\n",
    "model.compile(loss = 'categorical_crossentropy',\n",
    "             optimizer = 'adam',\n",
    "             metrics = ['accuracy'])\n",
    "\n",
    "model.fit(X_train, y_train, epochs = 1, verbose = 1, validation_data = (X_test, to_categorical(y_test)), callbacks = earlystop)"
   ]
  },
  {
   "cell_type": "markdown",
   "id": "749c4d55",
   "metadata": {},
   "source": [
    "# Metrics\n",
    "        1- Arrhytmia\n",
    "        2- History of MI \n",
    "        3- MI\n",
    "        4- Normal"
   ]
  },
  {
   "cell_type": "code",
   "execution_count": null,
   "id": "934c65e0",
   "metadata": {},
   "outputs": [],
   "source": [
    "y_pred = model.predict(X_test)\n",
    "y_pred = np.round(y_pred).astype(int)"
   ]
  },
  {
   "cell_type": "code",
   "execution_count": null,
   "id": "e0567e41",
   "metadata": {},
   "outputs": [],
   "source": [
    "accuracy_score(y_pred,to_categorical(y_test))"
   ]
  },
  {
   "cell_type": "code",
   "execution_count": null,
   "id": "05b0589b",
   "metadata": {
    "scrolled": true
   },
   "outputs": [],
   "source": [
    "precision_score(y_pred,to_categorical(y_test),average=None) "
   ]
  },
  {
   "cell_type": "code",
   "execution_count": null,
   "id": "47747959",
   "metadata": {},
   "outputs": [],
   "source": [
    "recall_score(y_pred,to_categorical(y_test),average=None)"
   ]
  },
  {
   "cell_type": "code",
   "execution_count": null,
   "id": "811fc899",
   "metadata": {
    "scrolled": false
   },
   "outputs": [],
   "source": [
    "f1_score(y_pred,to_categorical(y_test),average=None)"
   ]
  },
  {
   "cell_type": "code",
   "execution_count": null,
   "id": "a168aab5",
   "metadata": {
    "scrolled": true
   },
   "outputs": [],
   "source": [
    "roc_auc_score(y_pred,to_categorical(y_test), average=None)"
   ]
  },
  {
   "cell_type": "code",
   "execution_count": null,
   "id": "8d3f9ab4",
   "metadata": {},
   "outputs": [],
   "source": [
    "multilabel_confusion_matrix(y_pred,to_categorical(y_test))"
   ]
  }
 ],
 "metadata": {
  "kernelspec": {
   "display_name": "Python 3",
   "language": "python",
   "name": "python3"
  },
  "language_info": {
   "codemirror_mode": {
    "name": "ipython",
    "version": 3
   },
   "file_extension": ".py",
   "mimetype": "text/x-python",
   "name": "python",
   "nbconvert_exporter": "python",
   "pygments_lexer": "ipython3",
   "version": "3.8.8"
  }
 },
 "nbformat": 4,
 "nbformat_minor": 5
}
